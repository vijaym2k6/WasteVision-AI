{
 "cells": [
  {
   "cell_type": "code",
   "execution_count": null,
   "metadata": {
    "_cell_guid": "b1076dfc-b9ad-4769-8c92-a6c4dae69d19",
    "_uuid": "8f2839f25d086af736a60e9eeb907d3b93b6e0e5",
    "trusted": true
   },
   "outputs": [],
   "source": [
    "# This Python 3 environment comes with many helpful analytics libraries installed\n",
    "# It is defined by the kaggle/python Docker image: https://github.com/kaggle/docker-python\n",
    "# For example, here's several helpful packages to load\n",
    "\n",
    "import numpy as np # linear algebra\n",
    "import pandas as pd # data processing, CSV file I/O (e.g. pd.read_csv)\n",
    "\n",
    "# Input data files are available in the read-only \"../input/\" directory\n",
    "# For example, running this (by clicking run or pressing Shift+Enter) will list all files under the input directory\n",
    "\n",
    "import os\n",
    "for dirname, _, filenames in os.walk('/kaggle/input'):\n",
    "    for filename in filenames:\n",
    "        print(os.path.join(dirname, filename))\n",
    "\n",
    "# You can write up to 20GB to the current directory (/kaggle/working/) that gets preserved as output when you create a version using \"Save & Run All\" \n",
    "# You can also write temporary files to /kaggle/temp/, but they won't be saved outside of the current session"
   ]
  },
  {
   "cell_type": "code",
   "execution_count": null,
   "metadata": {
    "trusted": true
   },
   "outputs": [],
   "source": [
    "!pip install ultralytics deep-sort-realtime opencv-python-headless pandas kaggle"
   ]
  },
  {
   "cell_type": "code",
   "execution_count": null,
   "metadata": {
    "trusted": true
   },
   "outputs": [],
   "source": [
    "from ultralytics import YOLO"
   ]
  },
  {
   "cell_type": "code",
   "execution_count": null,
   "metadata": {
    "trusted": true
   },
   "outputs": [],
   "source": [
    "yaml_content = \"\"\"\n",
    "train: /kaggle/input/garbage-data/YOLO-Waste-Detection-1/YOLO-Waste-Detection-1/train/images\n",
    "val: /kaggle/input/garbage-data/YOLO-Waste-Detection-1/YOLO-Waste-Detection-1/valid/images\n",
    "test: /kaggle/input/garbage-data/YOLO-Waste-Detection-1/YOLO-Waste-Detection-1/test/images\n",
    "\n",
    "nc: 5\n",
    "names: ['Organic', 'Plastic', 'Paper', 'Metal', 'E-Waste']\n",
    "\"\"\"\n",
    "\n",
    "with open(\"/kaggle/working/data.yaml\", \"w\") as f:\n",
    "    f.write(yaml_content)"
   ]
  },
  {
   "cell_type": "code",
   "execution_count": null,
   "metadata": {
    "trusted": true
   },
   "outputs": [],
   "source": [
    "from ultralytics import YOLO\n",
    "\n",
    "model = YOLO(\"yolov8n.pt\")\n",
    "model.train(\n",
    "    data=\"/kaggle/working/data.yaml\",\n",
    "    epochs=25,\n",
    "    imgsz=544,\n",
    "    batch=12,\n",
    "    device=\"0,1\"   # ✅ use both GPUs\n",
    ")"
   ]
  },
  {
   "cell_type": "code",
   "execution_count": null,
   "metadata": {
    "trusted": true
   },
   "outputs": [],
   "source": [
    "import cv2\n",
    "from ultralytics import YOLO\n",
    "from deep_sort_realtime.deepsort_tracker import DeepSort\n",
    "import matplotlib.pyplot as plt\n",
    "\n",
    "# 🔹 Paths ggg\n",
    "weights_path = \"/kaggle/working/runs/detect/train/weights/best.pt\"  # trained YOLO weights\n",
    "video_path = \"/kaggle/input/waste-input/waste_input.mp4\"           # input video\n",
    "output_path = \"/kaggle/working/output_tracked.avi\"                 # output video\n",
    "\n",
    "# 🔹 Class names from your dataset\n",
    "class_names = ['Organic', 'Plastic', 'Paper', 'Metal', 'E-Waste']\n",
    "\n",
    "# 🔹 Load YOLO model\n",
    "model = YOLO(weights_path)\n",
    "\n",
    "# 🔹 Initialize DeepSORT\n",
    "tracker = DeepSort(max_age=30, n_init=3, nms_max_overlap=1.0)\n",
    "\n",
    "# 🔹 Open video and output writer\n",
    "cap = cv2.VideoCapture(video_path)\n",
    "w = int(cap.get(cv2.CAP_PROP_FRAME_WIDTH))\n",
    "h = int(cap.get(cv2.CAP_PROP_FRAME_HEIGHT))\n",
    "fps = cap.get(cv2.CAP_PROP_FPS)\n",
    "\n",
    "fourcc = cv2.VideoWriter_fourcc(*'XVID')\n",
    "out = cv2.VideoWriter(output_path, fourcc, fps, (w, h))\n",
    "\n",
    "while cap.isOpened():\n",
    "    ret, frame = cap.read()\n",
    "    if not ret:\n",
    "        break\n",
    "\n",
    "    # Run YOLO detection\n",
    "    results = model.predict(frame, imgsz=640, conf=0.5, verbose=False)\n",
    "\n",
    "    detections = []\n",
    "    for r in results:\n",
    "        for box in r.boxes:\n",
    "            x1, y1, x2, y2 = box.xyxy[0].cpu().numpy()\n",
    "            conf = float(box.conf[0])\n",
    "            cls = int(box.cls[0])\n",
    "            detections.append([[x1, y1, x2-x1, y2-y1], conf, cls])\n",
    "\n",
    "    # Update DeepSORT tracker\n",
    "    tracks = tracker.update_tracks(detections, frame=frame)\n",
    "\n",
    "    # Draw boxes with class name + track ID\n",
    "    for track in tracks:\n",
    "        if not track.is_confirmed():\n",
    "            continue\n",
    "        x1, y1, x2, y2 = track.to_ltrb()\n",
    "        track_id = track.track_id\n",
    "        \n",
    "        # Assign class name from detection\n",
    "        cls_name = class_names[track.det_class] if hasattr(track, 'det_class') else 'Unknown'\n",
    "        \n",
    "        cv2.rectangle(frame, (int(x1), int(y1)), (int(x2), int(y2)), (0,255,0), 2)\n",
    "        cv2.putText(frame, f\"{cls_name} ID {track_id}\", (int(x1), int(y1)-10),\n",
    "                    cv2.FONT_HERSHEY_SIMPLEX, 0.6, (0,255,0), 2)\n",
    "\n",
    "    out.write(frame)\n",
    "\n",
    "cap.release()\n",
    "out.release()\n",
    "\n",
    "print(f\"✅ Tracking finished. Saved at: {output_path}\")\n",
    "\n",
    "# 🔹 Display a sample frame\n",
    "cap = cv2.VideoCapture(output_path)\n",
    "ret, frame = cap.read()\n",
    "cap.release()\n",
    "if ret:\n",
    "    plt.imshow(cv2.cvtColor(frame, cv2.COLOR_BGR2RGB))\n",
    "    plt.axis(\"off\")\n",
    "    plt.title(\"Sample Output Frame\")\n",
    "    plt.show()\n",
    "\n",
    "# 🔹 Create download link in Kaggle\n",
    "from IPython.display import FileLink\n",
    "FileLink(output_path)"
   ]
  }
 ],
 "metadata": {
  "kaggle": {
   "accelerator": "nvidiaTeslaT4",
   "dataSources": [
    {
     "datasetId": 4905519,
     "sourceId": 8652790,
     "sourceType": "datasetVersion"
    },
    {
     "datasetId": 8265510,
     "sourceId": 13052847,
     "sourceType": "datasetVersion"
    }
   ],
   "dockerImageVersionId": 31091,
   "isGpuEnabled": true,
   "isInternetEnabled": true,
   "language": "python",
   "sourceType": "notebook"
  },
  "kernelspec": {
   "display_name": "Python 3",
   "language": "python",
   "name": "python3"
  },
  "language_info": {
   "codemirror_mode": {
    "name": "ipython",
    "version": 3
   },
   "file_extension": ".py",
   "mimetype": "text/x-python",
   "name": "python",
   "nbconvert_exporter": "python",
   "pygments_lexer": "ipython3",
   "version": "3.11.13"
  }
 },
 "nbformat": 4,
 "nbformat_minor": 4
}
